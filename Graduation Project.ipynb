{
 "cells": [
  {
   "cell_type": "code",
   "execution_count": 1,
   "id": "5744e4b1-926b-46d9-8889-344d1c9e123e",
   "metadata": {},
   "outputs": [],
   "source": [
    "import pandas as pd"
   ]
  },
  {
   "cell_type": "code",
   "execution_count": 2,
   "id": "7d825465-a4cf-4126-8a72-31ebafda2eea",
   "metadata": {},
   "outputs": [],
   "source": [
    "sensor_data = [\n",
    "    (\"S1\", \"2025-04-28 10:00\", 35.2, 12.1, 0.002),\n",
    "    (\"S2\", \"2025-04-28 10:00\", 36.5, 14.0, 0.003),\n",
    "    (\"S1\", \"2025-04-28 11:00\", 36.1, 12.5, 0.0021),\n",
    "    (\"S3\", \"2025-04-28 10:00\", 34.0, 11.8, 0.0025),\n",
    "    (\"S2\", \"2025-04-28 11:00\", 37.2, 14.3, 0.0031),\n",
    "    (\"S1\", \"2025-04-28 12:00\", 37.0, 13.0, 0.0022),\n",
    "]"
   ]
  },
  {
   "cell_type": "code",
   "execution_count": 3,
   "id": "8f5fccd7-fcde-4000-87e5-dc920fc4ebac",
   "metadata": {},
   "outputs": [],
   "source": [
    "columns = ['Sensor_ID', 'Timestamp', 'Temperature', 'Stress', 'Displacement']"
   ]
  },
  {
   "cell_type": "code",
   "execution_count": 5,
   "id": "f995ccb7-770c-4452-bfa6-6233c58d0b5c",
   "metadata": {},
   "outputs": [
    {
     "name": "stdout",
     "output_type": "stream",
     "text": [
      "  Sensor_ID         Timestamp  Temperature  Stress  Displacement\n",
      "0        S1  2025-04-28 10:00         35.2    12.1        0.0020\n",
      "1        S2  2025-04-28 10:00         36.5    14.0        0.0030\n",
      "2        S1  2025-04-28 11:00         36.1    12.5        0.0021\n",
      "3        S3  2025-04-28 10:00         34.0    11.8        0.0025\n",
      "4        S2  2025-04-28 11:00         37.2    14.3        0.0031\n",
      "5        S1  2025-04-28 12:00         37.0    13.0        0.0022\n"
     ]
    }
   ],
   "source": [
    "df = pd.DataFrame(sensor_data, columns=columns)\n",
    "print(df)"
   ]
  },
  {
   "cell_type": "code",
   "execution_count": 8,
   "id": "93e7bdd0-e123-49ac-a849-a0aa8b9d0e7d",
   "metadata": {},
   "outputs": [
    {
     "name": "stdout",
     "output_type": "stream",
     "text": [
      "<class 'pandas.core.frame.DataFrame'>\n",
      "RangeIndex: 6 entries, 0 to 5\n",
      "Data columns (total 5 columns):\n",
      " #   Column        Non-Null Count  Dtype         \n",
      "---  ------        --------------  -----         \n",
      " 0   Sensor_ID     6 non-null      object        \n",
      " 1   Timestamp     6 non-null      datetime64[ns]\n",
      " 2   Temperature   6 non-null      float64       \n",
      " 3   Stress        6 non-null      float64       \n",
      " 4   Displacement  6 non-null      float64       \n",
      "dtypes: datetime64[ns](1), float64(3), object(1)\n",
      "memory usage: 372.0+ bytes\n",
      "None\n",
      "  Sensor_ID           Timestamp  Temperature  Stress  Displacement\n",
      "0        S1 2025-04-28 10:00:00         35.2    12.1        0.0020\n",
      "1        S2 2025-04-28 10:00:00         36.5    14.0        0.0030\n",
      "2        S1 2025-04-28 11:00:00         36.1    12.5        0.0021\n",
      "3        S3 2025-04-28 10:00:00         34.0    11.8        0.0025\n",
      "4        S2 2025-04-28 11:00:00         37.2    14.3        0.0031\n",
      "5        S1 2025-04-28 12:00:00         37.0    13.0        0.0022\n"
     ]
    }
   ],
   "source": [
    "# Parse timestamps\n",
    "df[\"Timestamp\"] = pd.to_datetime(df[\"Timestamp\"])\n",
    "\n",
    "# Ensure appropriate data types (Pandas often infers correctly, but explicit conversion is possible)\n",
    "df[\"Temperature\"] = df[\"Temperature\"].astype(float)\n",
    "df[\"Stress\"] = df[\"Stress\"].astype(float)\n",
    "df[\"Displacement\"] = df[\"Displacement\"].astype(float)\n",
    "\n",
    "print(df.info())\n",
    "print(df)"
   ]
  },
  {
   "cell_type": "code",
   "execution_count": 15,
   "id": "4fbe3688-9012-4209-a2c2-7e36a8dcbf72",
   "metadata": {},
   "outputs": [],
   "source": [
    "avg_temp= df[\"Temperature\"].mean()"
   ]
  },
  {
   "cell_type": "code",
   "execution_count": 16,
   "id": "466d9d28-b464-4f6c-ac50-5c8316b253ac",
   "metadata": {},
   "outputs": [],
   "source": [
    "avg_stress= df[\"Stress\"].mean()\n",
    "avg_disp= df[\"Displacement\"].mean()"
   ]
  },
  {
   "cell_type": "code",
   "execution_count": 17,
   "id": "dd401d35-749b-461e-b0ad-0b5f4c544240",
   "metadata": {},
   "outputs": [
    {
     "name": "stdout",
     "output_type": "stream",
     "text": [
      "  Average Temperature: 36.00 °C\n",
      "  Average Stress: 12.95\n",
      "  Average Displacement: 0.0025\n"
     ]
    }
   ],
   "source": [
    "print(f\"  Average Temperature: {avg_temp:.2f} °C\")\n",
    "print(f\"  Average Stress: {avg_stress:.2f}\")\n",
    "print(f\"  Average Displacement: {avg_disp:.4f}\")"
   ]
  },
  {
   "cell_type": "code",
   "execution_count": 18,
   "id": "bf0c6aa3-99ab-4264-b2f7-fb17c61ae3fe",
   "metadata": {},
   "outputs": [
    {
     "name": "stdout",
     "output_type": "stream",
     "text": [
      "Sensor with the highest average stress: S2\n",
      "Average Stress: 14.15\n"
     ]
    }
   ],
   "source": [
    "avg_stress_per_sensor = df.groupby(\"Sensor_ID\")[\"Stress\"].mean()\n",
    "sensor_with_max_stress = avg_stress_per_sensor.idxmax()\n",
    "max_avg_stress = avg_stress_per_sensor.max()\n",
    "\n",
    "print(f\"Sensor with the highest average stress: {sensor_with_max_stress}\")\n",
    "print(f\"Average Stress: {max_avg_stress:.2f}\")"
   ]
  },
  {
   "cell_type": "code",
   "execution_count": 20,
   "id": "0d7f60af-3c70-41ba-a139-0ed1a96a5d47",
   "metadata": {},
   "outputs": [
    {
     "name": "stdout",
     "output_type": "stream",
     "text": [
      "High temperature readings:\n",
      "   Sensor_ID           Timestamp  Temperature  Stress  Displacement\n",
      "1        S2 2025-04-28 10:00:00         36.5    14.0        0.0030\n",
      "2        S1 2025-04-28 11:00:00         36.1    12.5        0.0021\n",
      "4        S2 2025-04-28 11:00:00         37.2    14.3        0.0031\n",
      "5        S1 2025-04-28 12:00:00         37.0    13.0        0.0022\n"
     ]
    }
   ],
   "source": [
    "high_temp_readings = df[df[\"Temperature\"] > 36.0]\n",
    "print(\"High temperature readings:\\n\", high_temp_readings)"
   ]
  },
  {
   "cell_type": "code",
   "execution_count": 24,
   "id": "f082e82d-d4a8-467f-b4a7-010a1c0b59ed",
   "metadata": {},
   "outputs": [
    {
     "data": {
      "image/png": "[encoded data removed]",
      "text/plain": [
       "<Figure size 1000x600 with 1 Axes>"
      ]
     },
     "metadata": {},
     "output_type": "display_data"
    }
   ],
   "source": [
    "import matplotlib.pyplot as plt\n",
    "import seaborn as sns\n",
    "plt.figure(figsize=(10, 6))\n",
    "sns.lineplot(data=df, x=\"Timestamp\", y=\"Stress\", hue=\"Sensor_ID\", marker=\"o\")\n",
    "\n",
    "plt.title(\"Stress Over Time per Sensor\", fontsize=14)\n",
    "plt.xlabel(\"Time\", fontsize=12)\n",
    "plt.ylabel(\"Stress\", fontsize=12)\n",
    "plt.xticks(rotation=45)\n",
    "plt.grid(True)\n",
    "plt.tight_layout()\n",
    "\n",
    "plt.show()"
   ]
  },
  {
   "cell_type": "code",
   "execution_count": 31,
   "id": "78557110-9791-465e-b08d-d027cbf99e5b",
   "metadata": {},
   "outputs": [
    {
     "name": "stdout",
     "output_type": "stream",
     "text": [
      "Anomalies values:\n",
      "  Sensor_ID           Timestamp  Temperature  Stress  Displacement\n",
      "4        S2 2025-04-28 11:00:00         37.2    14.3        0.0031\n",
      "5        S1 2025-04-28 12:00:00         37.0    13.0        0.0022\n"
     ]
    }
   ],
   "source": [
    "temp_thresh = 36.5\n",
    "stress_thresh = 14.0\n",
    "disp_thresh = 0.003\n",
    "\n",
    "anomalies = df[\n",
    "    (df[\"Temperature\"] > temp_thresh) |\n",
    "    (df[\"Stress\"] > stress_thresh) |\n",
    "    (df[\"Displacement\"] > disp_thresh)\n",
    "]\n",
    "\n",
    "print(\"Anomalies values:\")\n",
    "print(anomalies)"
   ]
  },
  {
   "cell_type": "code",
   "execution_count": 2,
   "id": "45b57216-9149-4062-8b82-717ad00718e9",
   "metadata": {},
   "outputs": [
    {
     "name": "stdout",
     "output_type": "stream",
     "text": [
      "                 Timestamp  Temperature     Stress  Displacement\n",
      "count                    4     4.000000   4.000000      4.000000\n",
      "mean   2025-04-28 11:00:00    36.700000  13.450000      0.002600\n",
      "min    2025-04-28 10:00:00    36.100000  12.500000      0.002100\n",
      "25%    2025-04-28 10:45:00    36.400000  12.875000      0.002175\n",
      "50%    2025-04-28 11:00:00    36.750000  13.500000      0.002600\n",
      "75%    2025-04-28 11:15:00    37.050000  14.075000      0.003025\n",
      "max    2025-04-28 12:00:00    37.200000  14.300000      0.003100\n",
      "std                    NaN     0.496655   0.842615      0.000523\n"
     ]
    }
   ],
   "source": [
    "import pandas as pd\n",
    "\n",
    "data = [\n",
    "    (\"S2\", \"2025-04-28 10:00:00\", 36.5, 14.0, 0.0030),\n",
    "    (\"S1\", \"2025-04-28 11:00:00\", 36.1, 12.5, 0.0021),\n",
    "    (\"S2\", \"2025-04-28 11:00:00\", 37.2, 14.3, 0.0031),\n",
    "    (\"S1\", \"2025-04-28 12:00:00\", 37.0, 13.0, 0.0022)\n",
    "]\n",
    "\n",
    "df = pd.DataFrame(data, columns=[\"Sensor\", \"Timestamp\", \"Temperature\", \"Stress\", \"Displacement\"])\n",
    "df[\"Timestamp\"] = pd.to_datetime(df[\"Timestamp\"])\n",
    "\n",
    "# Now run describe\n",
    "print(df.describe())"
   ]
  },
  {
   "cell_type": "code",
   "execution_count": 3,
   "id": "2e8d85f4-548b-4536-bb94-b1af94637e88",
   "metadata": {},
   "outputs": [],
   "source": [
    "import pandas as pd\n",
    "from sklearn.preprocessing import LabelEncoder\n",
    "from sklearn.model_selection import train_test_split\n",
    "from sklearn.linear_model import LinearRegression\n",
    "from sklearn.metrics import mean_squared_error, r2_score\n",
    "\n",
    "# Sensor data\n",
    "sensor_data = [\n",
    "    (\"S1\", \"2025-04-28 10:00\", 35.2, 12.1, 0.002),\n",
    "    (\"S2\", \"2025-04-28 10:00\", 36.5, 14.0, 0.003),\n",
    "    (\"S1\", \"2025-04-28 11:00\", 36.1, 12.5, 0.0021),\n",
    "    (\"S3\", \"2025-04-28 10:00\", 34.0, 11.8, 0.0025),\n",
    "    (\"S2\", \"2025-04-28 11:00\", 37.2, 14.3, 0.0031),\n",
    "    (\"S1\", \"2025-04-28 12:00\", 37.0, 13.0, 0.0022),\n",
    "]\n",
    "\n",
    "# Convert to DataFrame\n",
    "df = pd.DataFrame(sensor_data, columns=[\"sensor_id\", \"timestamp\", \"temperature\", \"stress\", \"displacement\"])\n",
    "df['timestamp'] = pd.to_datetime(df['timestamp'])\n",
    "\n",
    "# Encode sensor_id\n",
    "le = LabelEncoder()\n",
    "df['sensor_encoded'] = le.fit_transform(df['sensor_id'])\n",
    "\n",
    "# Extract timestamp features (optional for time-based trends)\n",
    "df['hour'] = df['timestamp'].dt.hour\n",
    "\n",
    "# Features & target\n",
    "X = df[['sensor_encoded', 'temperature', 'displacement', 'hour']]\n",
    "y = df['stress']\n",
    "\n"
   ]
  },
  {
   "cell_type": "code",
   "execution_count": 4,
   "id": "32963abd-4067-491d-b0d6-728d3bd4bc62",
   "metadata": {},
   "outputs": [],
   "source": [
    "# Split data\n",
    "X_train, X_test, y_train, y_test = train_test_split(X, y, test_size=0.3, random_state=42)\n",
    "\n",
    "# Train model\n",
    "model = LinearRegression()\n",
    "model.fit(X_train, y_train)\n",
    "\n",
    "# Predict\n",
    "y_pred = model.predict(X_test)\n"
   ]
  },
  {
   "cell_type": "code",
   "execution_count": 5,
   "id": "4922e8e0-63c1-49c2-b615-9b2ce5468e15",
   "metadata": {},
   "outputs": [
    {
     "name": "stdout",
     "output_type": "stream",
     "text": [
      "Mean Squared Error: 0.0053\n",
      "R² Score: 0.9942\n"
     ]
    }
   ],
   "source": [
    "mse = mean_squared_error(y_test, y_pred)\n",
    "r2 = r2_score(y_test, y_pred)\n",
    "\n",
    "print(f\"Mean Squared Error: {mse:.4f}\")\n",
    "print(f\"R² Score: {r2:.4f}\")\n"
   ]
  },
  {
   "cell_type": "code",
   "execution_count": 6,
   "id": "0d26b0d2-3bff-4afa-8097-1efd76398586",
   "metadata": {},
   "outputs": [
    {
     "name": "stdout",
     "output_type": "stream",
     "text": [
      "Predicted Stress: 12.8412\n"
     ]
    }
   ],
   "source": [
    "# Predict stress for new sample: S2, 36.8°C, 0.0030 displacement, 13:00\n",
    "sample = pd.DataFrame({\n",
    "    'sensor_encoded': [le.transform(['S2'])[0]],\n",
    "    'temperature': [36.8],\n",
    "    'displacement': [0.0030],\n",
    "    'hour': [13]\n",
    "})\n",
    "\n",
    "predicted_stress = model.predict(sample)\n",
    "print(f\"Predicted Stress: {predicted_stress[0]:.4f}\")\n"
   ]
  },
  {
   "cell_type": "code",
   "execution_count": 8,
   "id": "5a9881cd-43a0-4456-9fef-fb3b1f7ba36e",
   "metadata": {},
   "outputs": [],
   "source": [
    "import pandas as pd\n",
    "from sklearn.preprocessing import LabelEncoder\n",
    "from sklearn.ensemble import IsolationForest\n",
    "\n",
    "# Sensor data\n",
    "sensor_data = [\n",
    "    (\"S1\", \"2025-04-28 10:00\", 35.2, 12.1, 0.002),\n",
    "    (\"S2\", \"2025-04-28 10:00\", 36.5, 14.0, 0.003),\n",
    "    (\"S1\", \"2025-04-28 11:00\", 36.1, 12.5, 0.0021),\n",
    "    (\"S3\", \"2025-04-28 10:00\", 34.0, 11.8, 0.0025),\n",
    "    (\"S2\", \"2025-04-28 11:00\", 37.2, 14.3, 0.0031),\n",
    "    (\"S1\", \"2025-04-28 12:00\", 37.0, 13.0, 0.0022),\n",
    "]\n",
    "\n",
    "df = pd.DataFrame(sensor_data, columns=[\"sensor_id\", \"timestamp\", \"temperature\", \"stress\", \"displacement\"])\n",
    "df[\"timestamp\"] = pd.to_datetime(df[\"timestamp\"])\n",
    "\n",
    "# Encode sensor_id\n",
    "le = LabelEncoder()\n",
    "df[\"sensor_encoded\"] = le.fit_transform(df[\"sensor_id\"])\n",
    "df[\"hour\"] = df[\"timestamp\"].dt.hour\n",
    "\n",
    "# Features for anomaly detection\n",
    "features = df[[\"sensor_encoded\", \"temperature\", \"stress\", \"displacement\", \"hour\"]]\n",
    "\n",
    "model = IsolationForest(contamination=0.2, random_state=42)  # Assume ~20% are anomalies\n",
    "df[\"anomaly\"] = model.fit_predict(features)  # -1 = anomaly, 1 = normal\n"
   ]
  },
  {
   "cell_type": "code",
   "execution_count": 9,
   "id": "733c9d23-b852-473b-ac18-9a5b1d9399e9",
   "metadata": {},
   "outputs": [
    {
     "name": "stdout",
     "output_type": "stream",
     "text": [
      " Anomalies Detected:\n",
      "   sensor_id           timestamp  temperature  stress  displacement  \\\n",
      "3        S3 2025-04-28 10:00:00         34.0    11.8        0.0025   \n",
      "\n",
      "   sensor_encoded  hour  anomaly  \n",
      "3               2    10       -1  \n",
      "\n",
      " Normal Readings:\n",
      "   sensor_id           timestamp  temperature  stress  displacement  \\\n",
      "0        S1 2025-04-28 10:00:00         35.2    12.1        0.0020   \n",
      "1        S2 2025-04-28 10:00:00         36.5    14.0        0.0030   \n",
      "2        S1 2025-04-28 11:00:00         36.1    12.5        0.0021   \n",
      "4        S2 2025-04-28 11:00:00         37.2    14.3        0.0031   \n",
      "5        S1 2025-04-28 12:00:00         37.0    13.0        0.0022   \n",
      "\n",
      "   sensor_encoded  hour  anomaly  \n",
      "0               0    10        1  \n",
      "1               1    10        1  \n",
      "2               0    11        1  \n",
      "4               1    11        1  \n",
      "5               0    12        1  \n"
     ]
    }
   ],
   "source": [
    "# Print anomalies\n",
    "anomalies = df[df[\"anomaly\"] == -1]\n",
    "print(\" Anomalies Detected:\\n\", anomalies)\n",
    "\n",
    "# Print normal data\n",
    "normals = df[df[\"anomaly\"] == 1]\n",
    "print(\"\\n Normal Readings:\\n\", normals)\n"
   ]
  },
  {
   "cell_type": "code",
   "execution_count": 11,
   "id": "ad97c295-a6fd-4767-a340-ebba53593d93",
   "metadata": {},
   "outputs": [],
   "source": [
    "import pandas as pd\n",
    "\n",
    "sensor_data = [\n",
    "    (\"S1\", \"2025-04-28 10:00\", 35.2, 12.1, 0.002, \"Healthy\"),\n",
    "    (\"S2\", \"2025-04-28 10:00\", 36.5, 14.0, 0.003, \"Warning\"),\n",
    "    (\"S1\", \"2025-04-28 11:00\", 36.1, 12.5, 0.0021, \"Healthy\"),\n",
    "    (\"S3\", \"2025-04-28 10:00\", 34.0, 11.8, 0.0025, \"Healthy\"),\n",
    "    (\"S2\", \"2025-04-28 11:00\", 37.2, 14.3, 0.0031, \"Critical\"),\n",
    "    (\"S1\", \"2025-04-28 12:00\", 37.0, 13.0, 0.0022, \"Warning\"),\n",
    "]\n",
    "\n",
    "# Load DataFrame\n",
    "df = pd.DataFrame(sensor_data, columns=[\"sensor_id\", \"timestamp\", \"temperature\", \"stress\", \"displacement\", \"health_state\"])\n",
    "df[\"timestamp\"] = pd.to_datetime(df[\"timestamp\"])\n",
    "\n",
    "from sklearn.preprocessing import LabelEncoder\n",
    "\n",
    "# Label encode sensor_id and health_state\n",
    "le_sensor = LabelEncoder()\n",
    "df[\"sensor_encoded\"] = le_sensor.fit_transform(df[\"sensor_id\"])\n",
    "\n",
    "le_health = LabelEncoder()\n",
    "df[\"health_label\"] = le_health.fit_transform(df[\"health_state\"])  # 0 = Critical, 1 = Healthy, 2 = Warning\n",
    "\n",
    "# Optional: time-based feature\n",
    "df[\"hour\"] = df[\"timestamp\"].dt.hour\n",
    "\n",
    "# Features & target\n",
    "X = df[[\"sensor_encoded\", \"temperature\", \"stress\", \"displacement\", \"hour\"]]\n",
    "y = df[\"health_label\"]"
   ]
  },
  {
   "cell_type": "code",
   "execution_count": 15,
   "id": "50ec1296-c14c-4b35-b95c-2533b655ad8c",
   "metadata": {},
   "outputs": [
    {
     "name": "stdout",
     "output_type": "stream",
     "text": [
      "              precision    recall  f1-score   support\n",
      "\n",
      "    Critical       0.00      0.00      0.00         0\n",
      "     Healthy       1.00      1.00      1.00         1\n",
      "     Warning       0.00      0.00      0.00         1\n",
      "\n",
      "    accuracy                           0.50         2\n",
      "   macro avg       0.33      0.33      0.33         2\n",
      "weighted avg       0.50      0.50      0.50         2\n",
      "\n"
     ]
    },
    {
     "name": "stderr",
     "output_type": "stream",
     "text": [
      "C:\\Users\\Windows 10\\anaconda3\\Lib\\site-packages\\sklearn\\metrics\\_classification.py:1565: UndefinedMetricWarning: Precision is ill-defined and being set to 0.0 in labels with no predicted samples. Use `zero_division` parameter to control this behavior.\n",
      "  _warn_prf(average, modifier, f\"{metric.capitalize()} is\", len(result))\n",
      "C:\\Users\\Windows 10\\anaconda3\\Lib\\site-packages\\sklearn\\metrics\\_classification.py:1565: UndefinedMetricWarning: Recall is ill-defined and being set to 0.0 in labels with no true samples. Use `zero_division` parameter to control this behavior.\n",
      "  _warn_prf(average, modifier, f\"{metric.capitalize()} is\", len(result))\n",
      "C:\\Users\\Windows 10\\anaconda3\\Lib\\site-packages\\sklearn\\metrics\\_classification.py:1565: UndefinedMetricWarning: Precision is ill-defined and being set to 0.0 in labels with no predicted samples. Use `zero_division` parameter to control this behavior.\n",
      "  _warn_prf(average, modifier, f\"{metric.capitalize()} is\", len(result))\n",
      "C:\\Users\\Windows 10\\anaconda3\\Lib\\site-packages\\sklearn\\metrics\\_classification.py:1565: UndefinedMetricWarning: Recall is ill-defined and being set to 0.0 in labels with no true samples. Use `zero_division` parameter to control this behavior.\n",
      "  _warn_prf(average, modifier, f\"{metric.capitalize()} is\", len(result))\n",
      "C:\\Users\\Windows 10\\anaconda3\\Lib\\site-packages\\sklearn\\metrics\\_classification.py:1565: UndefinedMetricWarning: Precision is ill-defined and being set to 0.0 in labels with no predicted samples. Use `zero_division` parameter to control this behavior.\n",
      "  _warn_prf(average, modifier, f\"{metric.capitalize()} is\", len(result))\n",
      "C:\\Users\\Windows 10\\anaconda3\\Lib\\site-packages\\sklearn\\metrics\\_classification.py:1565: UndefinedMetricWarning: Recall is ill-defined and being set to 0.0 in labels with no true samples. Use `zero_division` parameter to control this behavior.\n",
      "  _warn_prf(average, modifier, f\"{metric.capitalize()} is\", len(result))\n"
     ]
    }
   ],
   "source": [
    "from sklearn.ensemble import RandomForestClassifier\n",
    "from sklearn.model_selection import train_test_split\n",
    "from sklearn.metrics import classification_report\n",
    "\n",
    "# Split dataset\n",
    "X_train, X_test, y_train, y_test = train_test_split(X, y, test_size=0.3, random_state=42)\n",
    "\n",
    "# Train model\n",
    "clf = RandomForestClassifier(random_state=42)\n",
    "clf.fit(X_train, y_train)\n",
    "\n",
    "# Predict\n",
    "y_pred = clf.predict(X_test)\n",
    "print(classification_report(y_test, y_pred, target_names=le_health.classes_))\n"
   ]
  },
  {
   "cell_type": "code",
   "execution_count": 14,
   "id": "cf49a2b5-9967-4603-a62e-6cac75d3da1e",
   "metadata": {},
   "outputs": [
    {
     "name": "stdout",
     "output_type": "stream",
     "text": [
      "Predicted Structural Health State: Critical\n"
     ]
    }
   ],
   "source": [
    "sample = pd.DataFrame({\n",
    "    \"sensor_encoded\": [le_sensor.transform([\"S2\"])[0]],\n",
    "    \"temperature\": [36.9],\n",
    "    \"stress\": [14.5],\n",
    "    \"displacement\": [0.0032],\n",
    "    \"hour\": [13]\n",
    "})\n",
    "\n",
    "predicted_label = clf.predict(sample)[0]\n",
    "predicted_state = le_health.inverse_transform([predicted_label])[0]\n",
    "\n",
    "print(f\"Predicted Structural Health State: {predicted_state}\")\n"
   ]
  },
  {
   "cell_type": "code",
   "execution_count": null,
   "id": "ac0dd17c-f0a0-4262-b4fa-18d9662261b0",
   "metadata": {},
   "outputs": [],
   "source": []
  }
 ],
 "metadata": {
  "kernelspec": {
   "display_name": "Python 3 (ipykernel)",
   "language": "python",
   "name": "python3"
  },
  "language_info": {
   "codemirror_mode": {
    "name": "ipython",
    "version": 3
   },
   "file_extension": ".py",
   "mimetype": "text/x-python",
   "name": "python",
   "nbconvert_exporter": "python",
   "pygments_lexer": "ipython3",
   "version": "3.13.5"
  }
 },
 "nbformat": 4,
 "nbformat_minor": 5
}
